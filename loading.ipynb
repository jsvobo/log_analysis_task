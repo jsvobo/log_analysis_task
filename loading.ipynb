{
 "cells": [
  {
   "cell_type": "code",
   "execution_count": 67,
   "metadata": {},
   "outputs": [
    {
     "name": "stdout",
     "output_type": "stream",
     "text": [
      "The autoreload extension is already loaded. To reload it, use:\n",
      "  %reload_ext autoreload\n"
     ]
    }
   ],
   "source": [
    "%load_ext autoreload\n",
    "%autoreload 2\n",
    "\n",
    "import loading"
   ]
  },
  {
   "cell_type": "code",
   "execution_count": 73,
   "metadata": {},
   "outputs": [
    {
     "name": "stdout",
     "output_type": "stream",
     "text": [
      "Loading conn.log...\n",
      "Loading dns.log...\n",
      "Loading files.log...\n",
      "Loading http.log...\n",
      "Loading ssl.log...\n",
      "Loading x509.log...\n",
      "             ts                 uid   id.orig_h  id.orig_p id.resp_h  \\\n",
      "0  1.599057e+09  CMLZbu3FDJYoZwa27k  10.8.0.117       1210   8.8.8.8   \n",
      "1  1.599057e+09  CgRCjV3z8dKmNVIvhb  10.8.0.117      43814   8.8.8.8   \n",
      "2  1.599057e+09  CgFfWv3PUApAZUINNf  10.8.0.117      51631   8.8.8.8   \n",
      "3  1.599057e+09  CIkFu02IznJPZcp1El  10.8.0.117      65449   8.8.8.8   \n",
      "4  1.599057e+09  Cylq6E2mc9lVLjs8ua  10.8.0.117      63247   8.8.8.8   \n",
      "\n",
      "   id.resp_p proto service  duration orig_bytes  ... next_protocol  \\\n",
      "0         53   udp     dns  0.010542         31  ...           NaN   \n",
      "1         53   udp     dns  0.010908         33  ...           NaN   \n",
      "2         53   udp     dns  0.010734         50  ...           NaN   \n",
      "3         53   udp     dns  0.010405         37  ...           NaN   \n",
      "4         53   udp     dns  0.009332         40  ...           NaN   \n",
      "\n",
      "  established cert_chain_fuids client_cert_chain_fuids  subject issuer  \\\n",
      "0         NaN              NaN                     NaN      NaN    NaN   \n",
      "1         NaN              NaN                     NaN      NaN    NaN   \n",
      "2         NaN              NaN                     NaN      NaN    NaN   \n",
      "3         NaN              NaN                     NaN      NaN    NaN   \n",
      "4         NaN              NaN                     NaN      NaN    NaN   \n",
      "\n",
      "   client_subject  client_issuer  validation_status  log_type_ssl  \n",
      "0             NaN            NaN                NaN           NaN  \n",
      "1             NaN            NaN                NaN           NaN  \n",
      "2             NaN            NaN                NaN           NaN  \n",
      "3             NaN            NaN                NaN           NaN  \n",
      "4             NaN            NaN                NaN           NaN  \n",
      "\n",
      "[5 rows x 97 columns]\n"
     ]
    }
   ],
   "source": [
    "ignored_logs = [\n",
    "    \"loaded_scripts.log\",\n",
    "    \"capture_loss.log\",\n",
    "    \"stats.log\",\n",
    "    \"packet_filter.log\",\n",
    "]\n",
    "zeek_logs = loading.load_all_zeek_logs(\"../stratosphere-work-challenge-v1/zeek\",ignored_logs) \n",
    "# change this to the path of the zeek logs\n",
    "\n",
    "merged_df = loading.merge_logs(\n",
    "    zeek_logs, primary_log=\"conn\"\n",
    ")  # primary log is the log that will be used as the base for the merge\n",
    "print(merged_df.head())"
   ]
  },
  {
   "cell_type": "code",
   "execution_count": 75,
   "metadata": {},
   "outputs": [
    {
     "name": "stdout",
     "output_type": "stream",
     "text": [
      "flows in merged log file:  234\n",
      "columns:  96 Index(['ts', 'id.orig_h', 'id.orig_p', 'id.resp_h', 'id.resp_p', 'proto',\n",
      "       'service', 'duration', 'orig_bytes', 'resp_bytes', 'conn_state',\n",
      "       'local_orig', 'local_resp', 'missed_bytes', 'history', 'orig_pkts',\n",
      "       'orig_ip_bytes', 'resp_pkts', 'resp_ip_bytes', 'tunnel_parents',\n",
      "       'log_type', 'ts_dns', 'id.orig_h_dns', 'id.orig_p_dns', 'id.resp_h_dns',\n",
      "       'id.resp_p_dns', 'proto_dns', 'trans_id', 'rtt', 'query', 'qclass',\n",
      "       'qclass_name', 'qtype', 'qtype_name', 'rcode', 'rcode_name', 'AA', 'TC',\n",
      "       'RD', 'RA', 'Z', 'answers', 'TTLs', 'rejected', 'log_type_dns',\n",
      "       'ts_http', 'id.orig_h_http', 'id.orig_p_http', 'id.resp_h_http',\n",
      "       'id.resp_p_http', 'trans_depth', 'method', 'host', 'uri', 'referrer',\n",
      "       'version', 'user_agent', 'origin', 'request_body_len',\n",
      "       'response_body_len', 'status_code', 'status_msg', 'info_code',\n",
      "       'info_msg', 'tags', 'username', 'password', 'proxied', 'orig_fuids',\n",
      "       'orig_filenames', 'orig_mime_types', 'resp_fuids', 'resp_filenames',\n",
      "       'resp_mime_types', 'log_type_http', 'ts_ssl', 'id.orig_h_ssl',\n",
      "       'id.orig_p_ssl', 'id.resp_h_ssl', 'id.resp_p_ssl', 'version_ssl',\n",
      "       'cipher', 'curve', 'server_name', 'resumed', 'last_alert',\n",
      "       'next_protocol', 'established', 'cert_chain_fuids',\n",
      "       'client_cert_chain_fuids', 'subject', 'issuer', 'client_subject',\n",
      "       'client_issuer', 'validation_status', 'log_type_ssl'],\n",
      "      dtype='object')\n"
     ]
    }
   ],
   "source": [
    "print(\"flows in merged log file: \", len(merged_df))\n",
    "print(\"columns: \", len(merged_df.columns), merged_df.columns)\n",
    "\n",
    "# save for inspection\n",
    "merged_df.to_csv(\"merged_zeek_logs.csv\", index=False)"
   ]
  },
  {
   "cell_type": "code",
   "execution_count": null,
   "metadata": {},
   "outputs": [],
   "source": [
    "merged_df.drop(columns=[\"uid\"], inplace=True)\n",
    "merged_df = convert_ip_addresses(merged_df, [\"id.orig_h\", \"id.resp_h\"])"
   ]
  },
  {
   "cell_type": "code",
   "execution_count": null,
   "metadata": {},
   "outputs": [
    {
     "name": "stdout",
     "output_type": "stream",
     "text": [
      "columns with only one unique value:\n",
      "local_orig\n",
      "local_resp\n",
      "missed_bytes\n",
      "tunnel_parents\n",
      "tags\n"
     ]
    }
   ],
   "source": [
    "print(\"columns with only one unique value and drop them:\")\n",
    "for col in merged_df.columns:\n",
    "    # print(col, len(merged_df[col].unique()))\n",
    "    if len(merged_df[col].unique()) == 1:\n",
    "        print(col)\n",
    "        merged_df.drop(columns=[col], inplace=True)\n"
   ]
  },
  {
   "cell_type": "code",
   "execution_count": null,
   "metadata": {},
   "outputs": [
    {
     "name": "stdout",
     "output_type": "stream",
     "text": [
      "columns after removal:  88 \n",
      " Index(['ts', 'uid', 'id.orig_h', 'id.orig_p', 'id.resp_h', 'id.resp_p',\n",
      "       'proto', 'service', 'duration', 'orig_bytes', 'resp_bytes',\n",
      "       'conn_state', 'history', 'orig_pkts', 'orig_ip_bytes', 'resp_pkts',\n",
      "       'resp_ip_bytes', 'ts_dns', 'id.orig_h_dns', 'id.orig_p_dns',\n",
      "       'id.resp_h_dns', 'id.resp_p_dns', 'proto_dns', 'trans_id', 'rtt',\n",
      "       'query', 'qclass', 'qclass_name', 'qtype', 'qtype_name', 'rcode',\n",
      "       'rcode_name', 'AA', 'TC', 'RD', 'RA', 'Z', 'answers', 'TTLs',\n",
      "       'rejected', 'ts_http', 'id.orig_h_http', 'id.orig_p_http',\n",
      "       'id.resp_h_http', 'id.resp_p_http', 'trans_depth', 'method', 'host',\n",
      "       'uri', 'referrer', 'version', 'user_agent', 'origin',\n",
      "       'request_body_len', 'response_body_len', 'status_code', 'status_msg',\n",
      "       'info_code', 'info_msg', 'username', 'password', 'proxied',\n",
      "       'orig_fuids', 'orig_filenames', 'orig_mime_types', 'resp_fuids',\n",
      "       'resp_filenames', 'resp_mime_types', 'ts_ssl', 'id.orig_h_ssl',\n",
      "       'id.orig_p_ssl', 'id.resp_h_ssl', 'id.resp_p_ssl', 'version_ssl',\n",
      "       'cipher', 'curve', 'server_name', 'resumed', 'last_alert',\n",
      "       'next_protocol', 'established', 'cert_chain_fuids',\n",
      "       'client_cert_chain_fuids', 'subject', 'issuer', 'client_subject',\n",
      "       'client_issuer', 'validation_status'],\n",
      "      dtype='object')\n"
     ]
    }
   ],
   "source": [
    "print(\"remove columns which jusrt announce the log file name/type (dns etc.)\")\n",
    "merged_df = merged_df.loc[:, ~merged_df.columns.str.contains(\"log_type\")]\n",
    "print(\"columns after removal: \",len(merged_df.columns),\"\\n\", merged_df.columns)"
   ]
  },
  {
   "cell_type": "code",
   "execution_count": null,
   "metadata": {},
   "outputs": [
    {
     "name": "stdout",
     "output_type": "stream",
     "text": [
      "             ts                 uid   id.orig_h  id.orig_p id.resp_h  \\\n",
      "0  1.599057e+09  CMLZbu3FDJYoZwa27k  10.8.0.117       1210   8.8.8.8   \n",
      "1  1.599057e+09  CgRCjV3z8dKmNVIvhb  10.8.0.117      43814   8.8.8.8   \n",
      "2  1.599057e+09  CgFfWv3PUApAZUINNf  10.8.0.117      51631   8.8.8.8   \n",
      "3  1.599057e+09  CIkFu02IznJPZcp1El  10.8.0.117      65449   8.8.8.8   \n",
      "4  1.599057e+09  Cylq6E2mc9lVLjs8ua  10.8.0.117      63247   8.8.8.8   \n",
      "\n",
      "   id.resp_p proto service  duration orig_bytes  ... last_alert next_protocol  \\\n",
      "0         53   udp     dns  0.010542         31  ...        NaN           NaN   \n",
      "1         53   udp     dns  0.010908         33  ...        NaN           NaN   \n",
      "2         53   udp     dns  0.010734         50  ...        NaN           NaN   \n",
      "3         53   udp     dns  0.010405         37  ...        NaN           NaN   \n",
      "4         53   udp     dns  0.009332         40  ...        NaN           NaN   \n",
      "\n",
      "  established  cert_chain_fuids  client_cert_chain_fuids  subject  issuer  \\\n",
      "0         NaN               NaN                      NaN      NaN     NaN   \n",
      "1         NaN               NaN                      NaN      NaN     NaN   \n",
      "2         NaN               NaN                      NaN      NaN     NaN   \n",
      "3         NaN               NaN                      NaN      NaN     NaN   \n",
      "4         NaN               NaN                      NaN      NaN     NaN   \n",
      "\n",
      "   client_subject client_issuer  validation_status  \n",
      "0             NaN           NaN                NaN  \n",
      "1             NaN           NaN                NaN  \n",
      "2             NaN           NaN                NaN  \n",
      "3             NaN           NaN                NaN  \n",
      "4             NaN           NaN                NaN  \n",
      "\n",
      "[5 rows x 88 columns]\n"
     ]
    }
   ],
   "source": [
    "# Convert T/F columns to 1/0 and make them numerical\n",
    "tf_columns = merged_df.select_dtypes(include=['object']).columns\n",
    "for col in tf_columns:\n",
    "    if merged_df[col].isin(['T', 'F']).all():\n",
    "        merged_df[col] = merged_df[col].map({'T': 1, 'F': 0}).astype(int)\n"
   ]
  },
  {
   "cell_type": "code",
   "execution_count": null,
   "metadata": {},
   "outputs": [],
   "source": [
    "merged_df.describe(include=\"all\")"
   ]
  }
 ],
 "metadata": {
  "kernelspec": {
   "display_name": "clustering",
   "language": "python",
   "name": "python3"
  },
  "language_info": {
   "codemirror_mode": {
    "name": "ipython",
    "version": 3
   },
   "file_extension": ".py",
   "mimetype": "text/x-python",
   "name": "python",
   "nbconvert_exporter": "python",
   "pygments_lexer": "ipython3",
   "version": "3.11.8"
  }
 },
 "nbformat": 4,
 "nbformat_minor": 2
}
